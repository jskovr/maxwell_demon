{
 "cells": [
  {
   "cell_type": "code",
   "execution_count": 1,
   "id": "d2bbc76d-9c2b-416d-a2f6-6a7bfc2da0c1",
   "metadata": {
    "tags": []
   },
   "outputs": [
    {
     "name": "stdout",
     "output_type": "stream",
     "text": [
      "pygame 2.1.2 (SDL 2.0.18, Python 3.9.12)\n",
      "Hello from the pygame community. https://www.pygame.org/contribute.html\n"
     ]
    }
   ],
   "source": []
  },
  {
   "cell_type": "code",
   "execution_count": 2,
   "id": "f74f8d19-3708-47b7-bbf5-02d4e697169b",
   "metadata": {},
   "outputs": [
    {
     "name": "stdout",
     "output_type": "stream",
     "text": [
      "C:\\Users\\joebs\\Documents\\university_of_san_francisco\\phys_312\n",
      "3.9.12 (main, Apr  4 2022, 05:22:27) [MSC v.1916 64 bit (AMD64)]\n",
      "C:\\Users\\joebs\\anaconda3\\python.exe\n"
     ]
    }
   ],
   "source": [
    "import os\n",
    "import sys\n",
    "print(os.getcwd())\n",
    "print(sys.version)\n",
    "print(sys.executable)"
   ]
  },
  {
   "cell_type": "code",
   "execution_count": 3,
   "id": "c39849f0-eeb4-4e7c-bfa1-9bfff7096ef3",
   "metadata": {},
   "outputs": [],
   "source": [
    "# import the settings\n",
    "from settings import *"
   ]
  },
  {
   "cell_type": "code",
   "execution_count": 4,
   "id": "48f44281-4d2d-4f57-ab0e-19cf07b55745",
   "metadata": {},
   "outputs": [],
   "source": [
    "class Map:\n",
    "    def __init__(self):\n",
    "        pygame.init()\n",
    "        pygame.display.set_mode((WINDOW_WIDTH, WINDOW_HEIGHT))\n",
    "        self.clock = pygame.time.Clock()\n",
    "        self.playing = True\n",
    "        \n",
    "    def run(self):\n",
    "        while self.playing:\n",
    "            self.clock.tick(FPS)\n",
    "            \n",
    "            for event in pygame.event.get():\n",
    "                if event.type == pygame.QUIT:\n",
    "                    pygame.quit()\n",
    "                    sys.exit()\n",
    "                    \n",
    "            pygame.display.update()"
   ]
  }
 ],
 "metadata": {
  "kernelspec": {
   "display_name": "Python 3 (ipykernel)",
   "language": "python",
   "name": "python3"
  },
  "language_info": {
   "codemirror_mode": {
    "name": "ipython",
    "version": 3
   },
   "file_extension": ".py",
   "mimetype": "text/x-python",
   "name": "python",
   "nbconvert_exporter": "python",
   "pygments_lexer": "ipython3",
   "version": "3.9.12"
  }
 },
 "nbformat": 4,
 "nbformat_minor": 5
}
